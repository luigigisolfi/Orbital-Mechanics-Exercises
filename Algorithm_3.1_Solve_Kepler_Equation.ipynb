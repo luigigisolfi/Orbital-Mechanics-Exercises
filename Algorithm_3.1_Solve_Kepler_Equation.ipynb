{
 "cells": [
  {
   "cell_type": "code",
   "execution_count": 58,
   "id": "7732c164",
   "metadata": {},
   "outputs": [
    {
     "data": {
      "text/plain": [
       "0.8932130930381812"
      ]
     },
     "execution_count": 58,
     "metadata": {},
     "output_type": "execute_result"
    }
   ],
   "source": [
    "#Solving Kepler's Equation\n",
    "#Me = Mean Anomaly, E = Eccentric Anomaly, e = Eccentricity\n",
    "#[Me]=[rad], [E]=[rad], [e]= pure number\n",
    "\n",
    "import numpy as np\n",
    "import matplotlib.pyplot as plt\n",
    "\n",
    "def F(x,y,z):\n",
    "    f=x-y*np.sin(x)-z\n",
    "    f_dot = 1-y*np.cos(x)\n",
    "    \n",
    "    return(f,f_dot)\n",
    "\n",
    "def Kepler(e,Me):\n",
    "    ratio=1\n",
    "    if Me < np.pi:\n",
    "        E=Me+e/2\n",
    "    if Me > np.pi:\n",
    "        E=Me-e/2\n",
    "    \n",
    "    while ratio > 10**(-12):\n",
    "\n",
    "        ratio=F(E,e,Me)[0]/F(E,e,Me)[1]\n",
    "        E = E-ratio\n",
    "    return(E)\n",
    "\n",
    "Kepler(0.5,0.5)"
   ]
  }
 ],
 "metadata": {
  "kernelspec": {
   "display_name": "Python 3 (ipykernel)",
   "language": "python",
   "name": "python3"
  },
  "language_info": {
   "codemirror_mode": {
    "name": "ipython",
    "version": 3
   },
   "file_extension": ".py",
   "mimetype": "text/x-python",
   "name": "python",
   "nbconvert_exporter": "python",
   "pygments_lexer": "ipython3",
   "version": "3.9.12"
  }
 },
 "nbformat": 4,
 "nbformat_minor": 5
}
