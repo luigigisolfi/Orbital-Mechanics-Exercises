{
 "cells": [
  {
   "cell_type": "code",
   "execution_count": 61,
   "id": "937e5c4e",
   "metadata": {},
   "outputs": [],
   "source": [
    "def elements(r_vec,v_vec,mu):\n",
    "    r_mag=np.linalg.norm(r_vec)\n",
    "    v_mag=np.linalg.norm(v_vec)\n",
    "    v_r=np.dot(r_vec,v_vec)/r_mag\n",
    "    h_vec=np.cross(r_vec,v_vec)\n",
    "    h_mag=np.linalg.norm(h_vec)\n",
    "    i=np.arccos(h_vec[2]/h_mag)*180/np.pi\n",
    "    K=np.array([0,0,1])\n",
    "    N_vec=np.cross(K,h_vec)\n",
    "    N_mag=np.linalg.norm(N_vec)\n",
    "    \n",
    "    if N_vec[1] >0:\n",
    "        Omega=np.arccos(N_vec[0]/N_mag)*180/np.pi\n",
    "    elif N_vec[1]<0:\n",
    "        Omega=(2*np.pi - np.arccos(N_vec[0]/N_mag))*180/np.pi\n",
    "    else:\n",
    "        Omega=np.arccos(N_vec[0]/N_mag)*180/np.pi\n",
    "    \n",
    "    e_vec=(1/mu)*((v_mag**2 - mu/r_mag)*r_vec - r_mag*v_r*v_vec)\n",
    "    e_mag=np.sqrt(np.dot(e_vec,e_vec))\n",
    "    \n",
    "    if e_vec[2]>0:\n",
    "        omega=np.arccos(np.dot(N_vec,e_vec)/(N_mag*e_mag))*180/np.pi\n",
    "    elif e_vec[2]<0:\n",
    "        omega=(2*np.pi - np.arccos(np.dot(N_vec,e_vec)/(N_mag*e_mag)))*180/np.pi\n",
    "    else:\n",
    "        omega=np.arccos(np.dot(N_vec,e_vec)/(N_mag*e_mag))*180/np.pi\n",
    "    \n",
    "    if v_r>0:\n",
    "        theta=np.arccos(np.dot(e_vec,r_vec)/(e_mag*r_mag))*180/np.pi\n",
    "    elif v_r<0:\n",
    "        theta=(2*np.pi - np.arccos(np.dot(e_vec,r_vec)/(e_mag*r_mag)))*180/np.pi\n",
    "    else:\n",
    "        theta=np.arccos(np.dot(e_vec,r_vec)/(e_mag*r_mag))*180/np.pi\n",
    "    \n",
    "    r_p=(h_mag**2/mu)*(1/(1+e_mag))\n",
    "    r_a=(h_mag**2/mu)*(1/(1-e_mag))\n",
    "    a=0.5*(r_p+r_a)\n",
    "    T=a**(1.5)*(2*np.pi/np.sqrt(mu))/3600\n",
    "    \n",
    "    return([h_vec,i,Omega,e_mag,omega,theta],r_p,r_a,a,T)"
   ]
  }
 ],
 "metadata": {
  "kernelspec": {
   "display_name": "Python 3 (ipykernel)",
   "language": "python",
   "name": "python3"
  },
  "language_info": {
   "codemirror_mode": {
    "name": "ipython",
    "version": 3
   },
   "file_extension": ".py",
   "mimetype": "text/x-python",
   "name": "python",
   "nbconvert_exporter": "python",
   "pygments_lexer": "ipython3",
   "version": "3.9.12"
  }
 },
 "nbformat": 4,
 "nbformat_minor": 5
}
