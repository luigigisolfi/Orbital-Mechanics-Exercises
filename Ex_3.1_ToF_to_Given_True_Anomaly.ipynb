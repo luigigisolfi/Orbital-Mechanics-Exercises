{
 "cells": [
  {
   "cell_type": "code",
   "execution_count": 25,
   "id": "58bca500",
   "metadata": {},
   "outputs": [],
   "source": [
    "#Calculate Time of Flight From Perigee to a Given True Anomaly, given perigee and apogee\n",
    "import numpy as np\n",
    "import matplotlib.pyplot as plt\n",
    "\n",
    "\n",
    "def ToF(perigee,apogee,theta_f,mu): #distances in km, angles in rad, mu = mu_earth\n",
    "    e = (apogee-perigee)/(apogee+perigee) #find e\n",
    "    h=np.sqrt(perigee*mu*(1+e*np.cos(0))) #find h from the orbit equation at perigee\n",
    "    T = (2*np.pi/mu**2)*(h/np.sqrt(1-e**2))**3 #find orbit Period\n",
    "    E=2*np.arctan(np.sqrt((1-e)/(1+e))*np.tan(theta_f/2)) #find E\n",
    "    Me = E-e*np.sin(E) #find Me\n",
    "    t = (Me*T)/(2*np.pi) #find ToF\n",
    "    \n",
    "    print('e =',e,'h =',h,'T =',T,'E =',E,'Me =',Me, 'ToF =',t)\n",
    "    return(e,h,T,E,Me,t)"
   ]
  }
 ],
 "metadata": {
  "kernelspec": {
   "display_name": "Python 3 (ipykernel)",
   "language": "python",
   "name": "python3"
  },
  "language_info": {
   "codemirror_mode": {
    "name": "ipython",
    "version": 3
   },
   "file_extension": ".py",
   "mimetype": "text/x-python",
   "name": "python",
   "nbconvert_exporter": "python",
   "pygments_lexer": "ipython3",
   "version": "3.9.12"
  }
 },
 "nbformat": 4,
 "nbformat_minor": 5
}
