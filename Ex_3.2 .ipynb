{
 "cells": [
  {
   "cell_type": "code",
   "execution_count": 42,
   "id": "b35d692a",
   "metadata": {},
   "outputs": [
    {
     "name": "stdout",
     "output_type": "stream",
     "text": [
      "0.37255 3.6029734160316202\n",
      "3.4793187418608955\n",
      "3.479476365547958\n",
      "3.479476366682782\n",
      "3.4794763666827815\n",
      "-2.9119577384809325\n"
     ]
    }
   ],
   "source": [
    "#Fine the True Anomaly After 3 Hours After Perigee Passage\n",
    "import numpy as np\n",
    "import matplotlib as plt\n",
    "\n",
    "def F(x,y,z):\n",
    "    f=x-y*np.sin(x)-z\n",
    "    f_dot = 1-y*np.cos(x)\n",
    "    \n",
    "    return(f,f_dot)\n",
    "\n",
    "def Kepler(e,Me):\n",
    "    ratio=1\n",
    "    if Me < np.pi:\n",
    "        E=Me+e/2\n",
    "    if Me > np.pi:\n",
    "        E=Me-e/2\n",
    "    \n",
    "    while np.abs(ratio) > 10**(-12):\n",
    "\n",
    "        ratio=F(E,e,Me)[0]/F(E,e,Me)[1]\n",
    "        E = E-ratio\n",
    "        print(E)\n",
    "    return(E)\n",
    "\n",
    "t = 60 * 60 * 3\n",
    "T = 18834\n",
    "Me = 2*np.pi*t/T\n",
    "e=0.37255\n",
    "print(e,Me)\n",
    "E = Kepler(e,Me)\n",
    "theta_3hrs = 2*np.arctan(np.tan(E/2)*np.sqrt((1+e)/(1-e)))\n",
    "\n",
    "print(theta_3hrs)\n"
   ]
  },
  {
   "cell_type": "code",
   "execution_count": 29,
   "id": "7e938097",
   "metadata": {},
   "outputs": [
    {
     "ename": "TypeError",
     "evalue": "'NoneType' object is not subscriptable",
     "output_type": "error",
     "traceback": [
      "\u001b[0;31m---------------------------------------------------------------------------\u001b[0m",
      "\u001b[0;31mTypeError\u001b[0m                                 Traceback (most recent call last)",
      "Input \u001b[0;32mIn [29]\u001b[0m, in \u001b[0;36m<cell line: 1>\u001b[0;34m()\u001b[0m\n\u001b[0;32m----> 1\u001b[0m \u001b[43mKepler\u001b[49m\u001b[43m(\u001b[49m\u001b[38;5;241;43m0.5\u001b[39;49m\u001b[43m,\u001b[49m\u001b[38;5;241;43m0.5\u001b[39;49m\u001b[43m)\u001b[49m\n",
      "Input \u001b[0;32mIn [26]\u001b[0m, in \u001b[0;36mKepler\u001b[0;34m(e, Me)\u001b[0m\n\u001b[1;32m     15\u001b[0m     E\u001b[38;5;241m=\u001b[39mMe\u001b[38;5;241m-\u001b[39me\u001b[38;5;241m/\u001b[39m\u001b[38;5;241m2\u001b[39m\n\u001b[1;32m     17\u001b[0m \u001b[38;5;28;01mwhile\u001b[39;00m ratio \u001b[38;5;241m>\u001b[39m \u001b[38;5;241m10\u001b[39m\u001b[38;5;241m*\u001b[39m\u001b[38;5;241m*\u001b[39m(\u001b[38;5;241m-\u001b[39m\u001b[38;5;241m12\u001b[39m):\n\u001b[0;32m---> 19\u001b[0m     ratio\u001b[38;5;241m=\u001b[39m\u001b[43mF\u001b[49m\u001b[43m(\u001b[49m\u001b[43mE\u001b[49m\u001b[43m,\u001b[49m\u001b[43me\u001b[49m\u001b[43m,\u001b[49m\u001b[43mMe\u001b[49m\u001b[43m)\u001b[49m\u001b[43m[\u001b[49m\u001b[38;5;241;43m0\u001b[39;49m\u001b[43m]\u001b[49m\u001b[38;5;241m/\u001b[39mF(E,e,Me)[\u001b[38;5;241m1\u001b[39m]\n\u001b[1;32m     20\u001b[0m     E \u001b[38;5;241m=\u001b[39m E\u001b[38;5;241m+\u001b[39mratio\n\u001b[1;32m     21\u001b[0m \u001b[38;5;28;01mreturn\u001b[39;00m(E)\n",
      "\u001b[0;31mTypeError\u001b[0m: 'NoneType' object is not subscriptable"
     ]
    }
   ],
   "source": []
  },
  {
   "cell_type": "code",
   "execution_count": null,
   "id": "9ba416a6",
   "metadata": {},
   "outputs": [],
   "source": []
  }
 ],
 "metadata": {
  "kernelspec": {
   "display_name": "Python 3 (ipykernel)",
   "language": "python",
   "name": "python3"
  },
  "language_info": {
   "codemirror_mode": {
    "name": "ipython",
    "version": 3
   },
   "file_extension": ".py",
   "mimetype": "text/x-python",
   "name": "python",
   "nbconvert_exporter": "python",
   "pygments_lexer": "ipython3",
   "version": "3.9.12"
  }
 },
 "nbformat": 4,
 "nbformat_minor": 5
}
