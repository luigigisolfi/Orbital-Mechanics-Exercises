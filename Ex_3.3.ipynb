{
 "cells": [
  {
   "cell_type": "code",
   "execution_count": 31,
   "id": "d1aa1d3c",
   "metadata": {},
   "outputs": [
    {
     "name": "stdout",
     "output_type": "stream",
     "text": [
      "the satellite is in shadow for a time t_1 = 866.7777613234472 s\n"
     ]
    }
   ],
   "source": [
    "#Find Time Satellite is in Earth's Shadow\n",
    "import numpy as np\n",
    "import matplotlib.pyplot as plt\n",
    "\n",
    "perigee = 500 #km\n",
    "apogee = 5000 #km\n",
    "mu=398600\n",
    "\n",
    "e = ((6378 + apogee) - (6378 + perigee))/((6378 + apogee)+(6378 + perigee))\n",
    "semi_major_axis = (6378 + perigee + 6378 + apogee)/2\n",
    "T = 2*np.pi*semi_major_axis**(3/2)/np.sqrt(mu)\n",
    "\n",
    "#Apogee Towards the Sun\n",
    "a = 0.24649\n",
    "b = -1.3442\n",
    "c = -1\n",
    "\n",
    "theta_1 = np.arctan(b/a) + np.arccos((c/a)*np.cos(np.arctan(b/a)))\n",
    "theta_2 = np.arctan(b/a) - np.arccos((c/a)*np.cos(np.arctan(b/a)))\n",
    "\n",
    "E_1 = 2*np.arctan(np.sqrt((1-e)/(1+e))*np.tan(theta_1/2))\n",
    "Me_1 = E_1 - e*np.sin(E_1)\n",
    "t_1 = (Me_1*T)/(2*np.pi)\n",
    "\n",
    "print('the satellite is in shadow for a time t_1 =',t_1, 's')\n",
    "                                     \n",
    "                                     \n",
    "                                     "
   ]
  },
  {
   "cell_type": "code",
   "execution_count": 29,
   "id": "13396188",
   "metadata": {},
   "outputs": [
    {
     "data": {
      "text/plain": [
       "866.7777613234472"
      ]
     },
     "execution_count": 29,
     "metadata": {},
     "output_type": "execute_result"
    }
   ],
   "source": [
    "t_1"
   ]
  }
 ],
 "metadata": {
  "kernelspec": {
   "display_name": "Python 3 (ipykernel)",
   "language": "python",
   "name": "python3"
  },
  "language_info": {
   "codemirror_mode": {
    "name": "ipython",
    "version": 3
   },
   "file_extension": ".py",
   "mimetype": "text/x-python",
   "name": "python",
   "nbconvert_exporter": "python",
   "pygments_lexer": "ipython3",
   "version": "3.9.12"
  }
 },
 "nbformat": 4,
 "nbformat_minor": 5
}
