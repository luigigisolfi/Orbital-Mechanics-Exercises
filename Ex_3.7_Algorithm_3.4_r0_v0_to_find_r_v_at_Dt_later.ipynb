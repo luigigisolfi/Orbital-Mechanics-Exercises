{
 "cells": [
  {
   "cell_type": "code",
   "execution_count": 37,
   "id": "5666c169",
   "metadata": {},
   "outputs": [
    {
     "name": "stdout",
     "output_type": "stream",
     "text": [
      "Initial X 115.63816166186969\n",
      "129.3450223357726\n",
      "128.51405220969195\n",
      "128.5107243120755\n",
      "128.51072425895617\n",
      "128.51072425895617\n",
      "128.51072425895617\n"
     ]
    }
   ],
   "source": [
    "#Solving Universal Kepler Equation\n",
    "\n",
    "import numpy as np\n",
    "import matplotlib.pyplot as plt\n",
    "\n",
    "def S_stumpff(z):\n",
    "    if z > 0:\n",
    "        s = (np.sqrt(z)-np.sin(np.sqrt(z)))/(np.sqrt(z))**3\n",
    "    \n",
    "    elif z < 0:\n",
    "        s=(np.sinh(np.sqrt(-z))-np.sqrt(-z))/(np.sqrt(-z))**3\n",
    "    else:\n",
    "        s=1/6\n",
    "    return(s)\n",
    "def C_stumpff(z):\n",
    "    if z > 0:\n",
    "        c = (1-np.cos(np.sqrt(z)))/z\n",
    "    elif z < 0:\n",
    "        c = (np.cosh(np.sqrt(-z))-1)/(-z)\n",
    "    else:\n",
    "        c = 1/2\n",
    "    return(c)\n",
    "    \n",
    "def Universal_Kepler(Dt,r0,vr0,alpha,mu):\n",
    "    ratio=1\n",
    "    X = np.sqrt(mu)*np.abs(alpha)*Dt\n",
    "    \n",
    "    print('Initial X',X)\n",
    "\n",
    "    while np.abs(ratio) > 10**(-12):\n",
    "        z = alpha*X**2\n",
    "        Universal_F= (r0*vr0)/(np.sqrt(mu))*X**2*C(z) + ((1-alpha*r0)*X**3*S(z))+(r0*X)-(np.sqrt(mu)*Dt)\n",
    "        Universal_F_dot = (r0*vr0)/(np.sqrt(mu)) * X*(1- (alpha*X**2* S(z)))+(1-alpha*r0)*X**2*C(z)+(r0)\n",
    "        \n",
    "        ratio=Universal_F/Universal_F_dot\n",
    "        X = X-ratio\n",
    "        print(X)\n",
    "    return(X)\n",
    "\n",
    "mu = 398600\n",
    "r0 = 10000\n",
    "Dt = 3600\n",
    "vr0 = 3.0752\n",
    "alpha = -5.0878e-5\n",
    "Universal_Anomaly = Universal_Kepler(Dt, r0,vr0,alpha, mu)\n",
    "\n",
    "print(Universal_Anomaly)"
   ]
  },
  {
   "cell_type": "code",
   "execution_count": 39,
   "id": "7f0cd403",
   "metadata": {},
   "outputs": [
    {
     "name": "stdout",
     "output_type": "stream",
     "text": [
      "7000 2.6679 -12124 4.621\n",
      "13999.691996611926 5.33585339097693 -2.6678946943289206 7.143195814615232e-05\n",
      "Initial X 162.3542655750751\n",
      "255.48674745675052\n",
      "253.5420255786324\n",
      "253.53444142566934\n",
      "253.5344413332633\n",
      "253.53444133326352\n",
      "253.53444133326352\n",
      "4.591625764531775\n",
      "-0.5412853463144778 184.12825255214784\n"
     ]
    },
    {
     "data": {
      "text/plain": [
       "(8113.79901118142, 8.35341669138204, array([-8.29760189, -0.96404006]))"
      ]
     },
     "execution_count": 39,
     "metadata": {},
     "output_type": "execute_result"
    }
   ],
   "source": [
    "#Ex. 3.7 Using Algorithm 3.4\n",
    "r0x, r0y, v0x, v0y = 7000,-12124, 2.6679,4.6210\n",
    "rv = np.array([r0x,r0y,v0x,v0y])\n",
    "Dt=3600\n",
    "r0 = np.sqrt(np.dot(rv[:2],rv[:2]))\n",
    "v0 = np.sqrt(np.dot(rv[2:],rv[2:]))\n",
    "vr0 = np.dot(rv[:2],rv[2:])/r0\n",
    "\n",
    "print(r0x,v0x,r0y,v0y)\n",
    "alpha = (2/r0)-(v0**2/mu)\n",
    "print(r0,v0,vr0,alpha)\n",
    "Universal_Anomaly = Universal_Kepler(Dt,r0,vr0,alpha,mu)\n",
    "print(Universal_Anomaly)\n",
    "z60 = Universal_Anomaly**2*alpha\n",
    "print(z60)\n",
    "f = 1 - (Universal_Anomaly**2*C_stumpff(z60))/(r0) \n",
    "g = Dt - np.sqrt(mu)**(-1)*Universal_Anomaly**3*S_stumpff(z60)\n",
    "\n",
    "print(f,g)\n",
    "r_vec = (f*rv[:2])+(g*rv[2:])\n",
    "r_mag = np.sqrt(np.dot(r_vec,r_vec))\n",
    "\n",
    "f_dot = np.sqrt(mu)*(alpha*Universal_Anomaly**3*S_stumpff(z60)-Universal_Anomaly)/(r_mag*r0)\n",
    "g_dot = 1- (Universal_Anomaly**2/r_mag)*C_stumpff(z60)\n",
    "\n",
    "v_vec = f_dot*rv[:2] + g_dot*rv[2:]\n",
    "v_mag = np.sqrt(np.dot(v_vec,v_vec))\n",
    "\n",
    "r_mag,v_mag, v_vec\n",
    "\n"
   ]
  },
  {
   "cell_type": "code",
   "execution_count": 40,
   "id": "03714e30",
   "metadata": {},
   "outputs": [
    {
     "data": {
      "text/plain": [
       "0.33569762269521"
      ]
     },
     "execution_count": 40,
     "metadata": {},
     "output_type": "execute_result"
    }
   ],
   "source": [
    "C_stumpff(4.5911)"
   ]
  }
 ],
 "metadata": {
  "kernelspec": {
   "display_name": "Python 3 (ipykernel)",
   "language": "python",
   "name": "python3"
  },
  "language_info": {
   "codemirror_mode": {
    "name": "ipython",
    "version": 3
   },
   "file_extension": ".py",
   "mimetype": "text/x-python",
   "name": "python",
   "nbconvert_exporter": "python",
   "pygments_lexer": "ipython3",
   "version": "3.9.12"
  }
 },
 "nbformat": 4,
 "nbformat_minor": 5
}
