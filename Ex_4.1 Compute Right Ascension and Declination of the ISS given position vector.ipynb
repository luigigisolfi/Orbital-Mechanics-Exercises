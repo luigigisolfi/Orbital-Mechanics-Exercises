{
 "cells": [
  {
   "cell_type": "code",
   "execution_count": 1,
   "id": "63a2f55f",
   "metadata": {},
   "outputs": [],
   "source": [
    "#This script computes the right ascension and declination\n",
    "#Of the international space stationm, given the position vector\n",
    "#r= -5368i^ - 1784j^ + 3691k^ (km)"
   ]
  },
  {
   "cell_type": "code",
   "execution_count": 23,
   "id": "ad20c46a",
   "metadata": {},
   "outputs": [
    {
     "name": "stdout",
     "output_type": "stream",
     "text": [
      "Please, write the r_x component in km:vd\n",
      "Please, write the r_y component in km:ws\n",
      "Please, write the r_z component in km:f\n"
     ]
    },
    {
     "ename": "ValueError",
     "evalue": "invalid literal for int() with base 10: 'vd'",
     "output_type": "error",
     "traceback": [
      "\u001b[0;31m---------------------------------------------------------------------------\u001b[0m",
      "\u001b[0;31mValueError\u001b[0m                                Traceback (most recent call last)",
      "Input \u001b[0;32mIn [23]\u001b[0m, in \u001b[0;36m<cell line: 7>\u001b[0;34m()\u001b[0m\n\u001b[1;32m      4\u001b[0m ry_txt\u001b[38;5;241m=\u001b[39m\u001b[38;5;28minput\u001b[39m(\u001b[38;5;124m'\u001b[39m\u001b[38;5;124mPlease, write the r_y component in km:\u001b[39m\u001b[38;5;124m'\u001b[39m)\n\u001b[1;32m      5\u001b[0m rz_txt\u001b[38;5;241m=\u001b[39m\u001b[38;5;28minput\u001b[39m(\u001b[38;5;124m'\u001b[39m\u001b[38;5;124mPlease, write the r_z component in km:\u001b[39m\u001b[38;5;124m'\u001b[39m) \n\u001b[0;32m----> 7\u001b[0m r_vec\u001b[38;5;241m=\u001b[39mnp\u001b[38;5;241m.\u001b[39marray([\u001b[38;5;28;43mint\u001b[39;49m\u001b[43m(\u001b[49m\u001b[43mrx_txt\u001b[49m\u001b[43m)\u001b[49m,\u001b[38;5;28mint\u001b[39m(ry_txt),\u001b[38;5;28mint\u001b[39m(rz_txt)])\n\u001b[1;32m      8\u001b[0m r_mag\u001b[38;5;241m=\u001b[39mnp\u001b[38;5;241m.\u001b[39mlinalg\u001b[38;5;241m.\u001b[39mnorm(r_vec)\n\u001b[1;32m      9\u001b[0m u_r\u001b[38;5;241m=\u001b[39mr_vec\u001b[38;5;241m/\u001b[39mr_mag\n",
      "\u001b[0;31mValueError\u001b[0m: invalid literal for int() with base 10: 'vd'"
     ]
    }
   ],
   "source": [
    "import numpy as np\n",
    "import matplotlib.pyplot as plt\n",
    "rx_txt=input('Please, write the r_x component in km:')\n",
    "ry_txt=input('Please, write the r_y component in km:')\n",
    "rz_txt=input('Please, write the r_z component in km:') \n",
    "\n",
    "r_vec=np.array([int(rx_txt),int(ry_txt),int(rz_txt)])\n",
    "r_mag=np.linalg.norm(r_vec)\n",
    "u_r=r_vec/r_mag\n",
    "delta=np.arcsin(u_r[2])\n",
    "RA_1=np.arccos(u_r[0]/np.cos(delta))*180/np.pi\n",
    "RA_2=360 - np.arccos(u_r[0]/np.cos(delta))*180/np.pi\n",
    "\n",
    "print('the declination is delta =', delta)\n",
    "print('the right ascension is either RA_1 =',RA_1, 'or RA_2=',RA_2)"
   ]
  },
  {
   "cell_type": "code",
   "execution_count": 19,
   "id": "6f50f420",
   "metadata": {},
   "outputs": [
    {
     "data": {
      "text/plain": [
       "198.4"
      ]
     },
     "execution_count": 19,
     "metadata": {},
     "output_type": "execute_result"
    }
   ],
   "source": []
  }
 ],
 "metadata": {
  "kernelspec": {
   "display_name": "Python 3 (ipykernel)",
   "language": "python",
   "name": "python3"
  },
  "language_info": {
   "codemirror_mode": {
    "name": "ipython",
    "version": 3
   },
   "file_extension": ".py",
   "mimetype": "text/x-python",
   "name": "python",
   "nbconvert_exporter": "python",
   "pygments_lexer": "ipython3",
   "version": "3.9.12"
  }
 },
 "nbformat": 4,
 "nbformat_minor": 5
}
