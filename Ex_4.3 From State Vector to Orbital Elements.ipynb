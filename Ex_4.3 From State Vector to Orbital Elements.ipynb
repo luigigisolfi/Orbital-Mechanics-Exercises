{
 "cells": [
  {
   "cell_type": "code",
   "execution_count": 32,
   "id": "cce79dba",
   "metadata": {},
   "outputs": [],
   "source": [
    "#Solve Example 4.3 using Algorithm 4.1\n",
    "\n",
    "def elements(r_vec,v_vec,mu):\n",
    "    r_mag=np.linalg.norm(r_vec)\n",
    "    v_mag=np.linalg.norm(v_vec)\n",
    "    v_r=np.dot(r_vec,v_vec)/r_mag\n",
    "    h_vec=np.cross(r_vec,v_vec)\n",
    "    h_mag=np.linalg.norm(h_vec)\n",
    "    i=np.arccos(h_vec[2]/h_mag)*180/np.pi\n",
    "    K=np.array([0,0,1])\n",
    "    N_vec=np.cross(K,h_vec)\n",
    "    N_mag=np.linalg.norm(N_vec)\n",
    "    \n",
    "    if N_vec[1] >0:\n",
    "        Omega=np.arccos(N_vec[0]/N_mag)*180/np.pi\n",
    "    elif N_vec[1]<0:\n",
    "        Omega=(2*np.pi - np.arccos(N_vec[0]/N_mag))*180/np.pi\n",
    "    else:\n",
    "        Omega=np.arccos(N_vec[0]/N_mag)*180/np.pi\n",
    "    \n",
    "    e_vec=(1/mu)*((v_mag**2 - mu/r_mag)*r_vec - r_mag*v_r*v_vec)\n",
    "    e_mag=np.sqrt(np.dot(e_vec,e_vec))\n",
    "    \n",
    "    if e_vec[2]>0:\n",
    "        omega=np.arccos(np.dot(N_vec,e_vec)/(N_mag*e_mag))*180/np.pi\n",
    "    elif e_vec[2]<0:\n",
    "        omega=(2*np.pi - np.arccos(np.dot(N_vec,e_vec)/(N_mag*e_mag)))*180/np.pi\n",
    "    else:\n",
    "        omega=np.arccos(np.dot(N_vec,e_vec)/(N_mag*e_mag))*180/np.pi\n",
    "    \n",
    "    if v_r>0:\n",
    "        theta=np.arccos(np.dot(e_vec,r_vec)/(e_mag*r_mag))*180/np.pi\n",
    "    elif v_r<0:\n",
    "        theta=(2*np.pi - np.arccos(np.dot(e_vec,r_vec)/(e_mag*r_mag)))*180/np.pi\n",
    "    else:\n",
    "        theta=np.arccos(np.dot(e_vec,r_vec)/(e_mag*r_mag))*180/np.pi\n",
    "    \n",
    "    r_p=(h_mag**2/mu)*(1/(1+e_mag))\n",
    "    r_a=(h_mag**2/mu)*(1/(1-e_mag))\n",
    "    a=0.5*(r_p+r_a)\n",
    "    T=a**(1.5)*(2*np.pi/np.sqrt(mu))/3600\n",
    "    solution_text=['h_vec = '+str(h_vec),'h_mag = '+str(h_mag),'i = '+str(i),'Omega = '+str(Omega),'e_mag = '+str(e_mag),\n",
    "                   'omega = '+str(omega), 'theta = '+str(theta),'r_p = '+str(r_p),'r_a = '+str(r_a),\n",
    "                  'a = '+str(a),'T = '+ str(T)]\n",
    "    \n",
    "    for i in range(len(solution_text)):\n",
    "        print(solution_text[i])\n",
    "    \n",
    "    return([h_vec,h_mag,i,Omega,e_mag,omega,theta],r_p,r_a,a,T)\n",
    "\n",
    "    "
   ]
  },
  {
   "cell_type": "code",
   "execution_count": 33,
   "id": "4f9590a5",
   "metadata": {},
   "outputs": [
    {
     "name": "stdout",
     "output_type": "stream",
     "text": [
      "h_vec = [-25385.17    6669.485 -52070.74 ]\n",
      "h_mag = 58311.66993185606\n",
      "i = 153.2492285182475\n",
      "Omega = 255.27928533439618\n",
      "e_mag = 0.17121234628445342\n",
      "omega = 20.068316650582467\n",
      "theta = 28.445628306614967\n",
      "r_p = 7283.464732960478\n",
      "r_a = 10292.725501794834\n",
      "a = 8788.095117377656\n",
      "T = 2.2774604491192245\n"
     ]
    },
    {
     "data": {
      "text/plain": [
       "([array([-25385.17 ,   6669.485, -52070.74 ]),\n",
       "  58311.66993185606,\n",
       "  10,\n",
       "  255.27928533439618,\n",
       "  0.17121234628445342,\n",
       "  20.068316650582467,\n",
       "  28.445628306614967],\n",
       " 7283.464732960478,\n",
       " 10292.725501794834,\n",
       " 8788.095117377656,\n",
       " 2.2774604491192245)"
      ]
     },
     "execution_count": 33,
     "metadata": {},
     "output_type": "execute_result"
    }
   ],
   "source": [
    "#Solve Example 4.3\n",
    "import numpy as np\n",
    "r_vec=np.array([-6045,-3490,+2500])\n",
    "v_vec=np.array([-3.457,+6.618,+2.533])\n",
    "mu=398600\n",
    "elements(r_vec,v_vec,mu)"
   ]
  },
  {
   "cell_type": "code",
   "execution_count": null,
   "id": "48f36a7b",
   "metadata": {},
   "outputs": [],
   "source": []
  }
 ],
 "metadata": {
  "kernelspec": {
   "display_name": "Python 3 (ipykernel)",
   "language": "python",
   "name": "python3"
  },
  "language_info": {
   "codemirror_mode": {
    "name": "ipython",
    "version": 3
   },
   "file_extension": ".py",
   "mimetype": "text/x-python",
   "name": "python",
   "nbconvert_exporter": "python",
   "pygments_lexer": "ipython3",
   "version": "3.9.12"
  }
 },
 "nbformat": 4,
 "nbformat_minor": 5
}
